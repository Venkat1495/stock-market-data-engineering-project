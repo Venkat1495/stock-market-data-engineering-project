{
 "cells": [
  {
   "cell_type": "code",
   "execution_count": 1,
   "metadata": {},
   "outputs": [],
   "source": [
    "from kafka import KafkaConsumer\n",
    "from time import sleep\n",
    "from json import dumps, loads\n",
    "import json"
   ]
  },
  {
   "cell_type": "code",
   "execution_count": 2,
   "metadata": {},
   "outputs": [],
   "source": [
    "consumer = KafkaConsumer('demo_test', bootstrap_servers=['18.207.150.42:9092'],\n",
    "                         value_deserializer=lambda x: loads(x.decode('utf-8')))"
   ]
  },
  {
   "cell_type": "code",
   "execution_count": null,
   "metadata": {},
   "outputs": [],
   "source": [
    "s3 = boto3.client(\n",
    "    's3',\n",
    "    aws_access_key_id='YOUR_ACCESS_KEY_ID',\n",
    "    aws_secret_access_key='YOUR_SECRET_ACCESS_KEY',\n",
    "    region_name='YOUR_AWS_REGION'\n",
    ")\n",
    "\n",
    "bucket_name = 'kafka-stock-market-venky'\n",
    "\n",
    "for count, message in enumerate(consumer):\n",
    "    # Create a unique file name for each message\n",
    "    file_name = \"stock_market_{}.json\".format(count)\n",
    "    # Convert the message value to a JSON string\n",
    "    json_data = json.dumps(message.value)\n",
    "    \n",
    "    # Upload the JSON data to S3\n",
    "    s3.put_object(Bucket=bucket_name, Key=file_name, Body=json_data)\n",
    "\n",
    "print(\"Finished uploading messages to S3\")"
   ]
  }
 ],
 "metadata": {
  "kernelspec": {
   "display_name": "myenv",
   "language": "python",
   "name": "python3"
  },
  "language_info": {
   "codemirror_mode": {
    "name": "ipython",
    "version": 3
   },
   "file_extension": ".py",
   "mimetype": "text/x-python",
   "name": "python",
   "nbconvert_exporter": "python",
   "pygments_lexer": "ipython3",
   "version": "3.11.6"
  }
 },
 "nbformat": 4,
 "nbformat_minor": 2
}
